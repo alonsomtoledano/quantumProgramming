{
 "cells": [
  {
   "cell_type": "code",
   "execution_count": 1,
   "id": "0a1fd6be",
   "metadata": {},
   "outputs": [],
   "source": [
    "from qiskit import *"
   ]
  },
  {
   "cell_type": "code",
   "execution_count": 2,
   "id": "c3cdfa11",
   "metadata": {},
   "outputs": [],
   "source": [
    "from qiskit.tools.visualization import plot_bloch_multivector"
   ]
  },
  {
   "cell_type": "code",
   "execution_count": 3,
   "id": "b2adf9b1",
   "metadata": {},
   "outputs": [],
   "source": [
    "circuit = QuantumCircuit(1, 1)"
   ]
  },
  {
   "cell_type": "code",
   "execution_count": 4,
   "id": "780ea044",
   "metadata": {},
   "outputs": [
    {
     "data": {
      "text/plain": [
       "<qiskit.circuit.instructionset.InstructionSet at 0x250854c61c0>"
      ]
     },
     "execution_count": 4,
     "metadata": {},
     "output_type": "execute_result"
    }
   ],
   "source": [
    "circuit.x(0)"
   ]
  },
  {
   "cell_type": "code",
   "execution_count": 5,
   "id": "bd7b572a",
   "metadata": {},
   "outputs": [],
   "source": [
    "simulator = Aer.get_backend('statevector_simulator')"
   ]
  },
  {
   "cell_type": "code",
   "execution_count": 11,
   "id": "b530aa54",
   "metadata": {},
   "outputs": [],
   "source": [
    "result = execute(circuit, backend=simulator, shots=1024).result()"
   ]
  },
  {
   "cell_type": "code",
   "execution_count": 12,
   "id": "985b0549",
   "metadata": {},
   "outputs": [],
   "source": [
    "statevector = result.get_statevector()"
   ]
  },
  {
   "cell_type": "code",
   "execution_count": 13,
   "id": "fd0a9f40",
   "metadata": {},
   "outputs": [
    {
     "name": "stdout",
     "output_type": "stream",
     "text": [
      "[0.+0.j 1.+0.j]\n"
     ]
    }
   ],
   "source": [
    "print(statevector)"
   ]
  },
  {
   "cell_type": "code",
   "execution_count": 14,
   "id": "c552da10",
   "metadata": {},
   "outputs": [],
   "source": [
    "matplotlib inline"
   ]
  },
  {
   "cell_type": "code",
   "execution_count": 15,
   "id": "d30a2bd4",
   "metadata": {},
   "outputs": [
    {
     "data": {
      "image/png": "[encoded data removed]",
      "text/plain": [
       "<Figure size 133.526x144.48 with 1 Axes>"
      ]
     },
     "execution_count": 15,
     "metadata": {},
     "output_type": "execute_result"
    }
   ],
   "source": [
    "circuit.draw(output='mpl')"
   ]
  }
 ],
 "metadata": {
  "kernelspec": {
   "display_name": "Python 3 (ipykernel)",
   "language": "python",
   "name": "python3"
  },
  "language_info": {
   "codemirror_mode": {
    "name": "ipython",
    "version": 3
   },
   "file_extension": ".py",
   "mimetype": "text/x-python",
   "name": "python",
   "nbconvert_exporter": "python",
   "pygments_lexer": "ipython3",
   "version": "3.9.7"
  }
 },
 "nbformat": 4,
 "nbformat_minor": 5
}
